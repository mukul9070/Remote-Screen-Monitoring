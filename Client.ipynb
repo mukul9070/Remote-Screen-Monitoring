{
 "cells": [
  {
   "cell_type": "code",
   "execution_count": 1,
   "metadata": {},
   "outputs": [
    {
     "ename": "ModuleNotFoundError",
     "evalue": "No module named 'pyautogui'",
     "output_type": "error",
     "traceback": [
      "\u001b[0;31m---------------------------------------------------------------------------\u001b[0m",
      "\u001b[0;31mModuleNotFoundError\u001b[0m                       Traceback (most recent call last)",
      "\u001b[0;32m<ipython-input-1-f7968fde7157>\u001b[0m in \u001b[0;36m<module>\u001b[0;34m()\u001b[0m\n\u001b[1;32m      1\u001b[0m \u001b[0;32mimport\u001b[0m \u001b[0msocket\u001b[0m                   \u001b[0;31m# Import socket module\u001b[0m\u001b[0;34m\u001b[0m\u001b[0m\n\u001b[1;32m      2\u001b[0m \u001b[0;32mfrom\u001b[0m \u001b[0mPIL\u001b[0m \u001b[0;32mimport\u001b[0m \u001b[0mImage\u001b[0m\u001b[0;34m\u001b[0m\u001b[0m\n\u001b[0;32m----> 3\u001b[0;31m \u001b[0;32mimport\u001b[0m \u001b[0mpyautogui\u001b[0m\u001b[0;34m\u001b[0m\u001b[0m\n\u001b[0m\u001b[1;32m      4\u001b[0m \u001b[0;32mimport\u001b[0m \u001b[0mtime\u001b[0m\u001b[0;34m\u001b[0m\u001b[0m\n\u001b[1;32m      5\u001b[0m \u001b[0;34m\u001b[0m\u001b[0m\n",
      "\u001b[0;31mModuleNotFoundError\u001b[0m: No module named 'pyautogui'"
     ]
    }
   ],
   "source": [
    "import socket                   # Import socket module\n",
    "from PIL import Image\n",
    "import pyautogui\n",
    "import time\n",
    "\n",
    "s = socket.socket()             # Create a socket object\n",
    "host = socket.gethostname()     # Get local machine name\n",
    "port = 60000                    # Reserve a port for your service.\n",
    "\n",
    "s.connect((host, port))\n",
    "s.send(\"Hello server!\".encode())\n",
    "\n",
    "\n",
    "#pic = pyautogui.screenshot()\n",
    "#pic.save('Screenshot.png')\n",
    "#pic = Image.open('Screenshot.png')\n",
    "#pic.show()\n",
    "\n",
    "pic = pyautogui.screenshot()\n",
    "pic.save('Screenshot1.png')\n",
    "image = open(\"Screenshot1.png\", \"rb\")\n",
    "    \n",
    "print(\"Sending image data...\")\n",
    "while True:\n",
    "    data = image.readline(1024)\n",
    "    if not data:\n",
    "        break\n",
    "    s.send(data)\n",
    "\n",
    "print(\"Data has been sent!\")\n",
    "    \n",
    "#print(\"-------------------\")\n",
    "#time.sleep(3)\n",
    "#s.send(pic)\n",
    "#print('Done sending')\n",
    "\n",
    "s.close()\n",
    "print('connection closed')"
   ]
  },
  {
   "cell_type": "code",
   "execution_count": null,
   "metadata": {},
   "outputs": [],
   "source": []
  },
  {
   "cell_type": "code",
   "execution_count": null,
   "metadata": {},
   "outputs": [],
   "source": []
  },
  {
   "cell_type": "code",
   "execution_count": 4,
   "metadata": {},
   "outputs": [
    {
     "ename": "ModuleNotFoundError",
     "evalue": "No module named 'pyautogui'",
     "output_type": "error",
     "traceback": [
      "\u001b[0;31m---------------------------------------------------------------------------\u001b[0m",
      "\u001b[0;31mModuleNotFoundError\u001b[0m                       Traceback (most recent call last)",
      "\u001b[0;32m<ipython-input-4-b1a18a5a58a4>\u001b[0m in \u001b[0;36m<module>\u001b[0;34m()\u001b[0m\n\u001b[1;32m      1\u001b[0m \u001b[0;32mimport\u001b[0m \u001b[0msocket\u001b[0m                   \u001b[0;31m# Import socket module\u001b[0m\u001b[0;34m\u001b[0m\u001b[0m\n\u001b[1;32m      2\u001b[0m \u001b[0;32mfrom\u001b[0m \u001b[0mPIL\u001b[0m \u001b[0;32mimport\u001b[0m \u001b[0mImage\u001b[0m\u001b[0;34m\u001b[0m\u001b[0m\n\u001b[0;32m----> 3\u001b[0;31m \u001b[0;32mimport\u001b[0m \u001b[0mpyautogui\u001b[0m\u001b[0;34m\u001b[0m\u001b[0m\n\u001b[0m\u001b[1;32m      4\u001b[0m \u001b[0;32mimport\u001b[0m \u001b[0mtime\u001b[0m\u001b[0;34m\u001b[0m\u001b[0m\n\u001b[1;32m      5\u001b[0m \u001b[0;34m\u001b[0m\u001b[0m\n",
      "\u001b[0;31mModuleNotFoundError\u001b[0m: No module named 'pyautogui'"
     ]
    }
   ],
   "source": [
    "import socket                   # Import socket module\n",
    "from PIL import Image\n",
    "import pyautogui\n",
    "import time\n",
    "\n",
    "s = socket.socket()             # Create a socket object\n",
    "host = \"192.168.43.97\"    # Get local machine name\n",
    "port = 60000                    # Reserve a port for your service.\n",
    "\n",
    "s.connect((host, port))\n",
    "\n",
    "command = s.recv(1024)\n",
    "while command.decode() != 'E':\n",
    "    \n",
    "    if command.decode() == 'S':\n",
    "        print('Scrennshot requested')\n",
    "        #pic = pyautogui.screenshot()\n",
    "        #pic.save('Screenshot.png')\n",
    "        #pic = Image.open('Screenshot.png')\n",
    "        #pic.show()\n",
    "\n",
    "        pic = pyautogui.screenshot()\n",
    "        pic.save('Screenshot1.png')\n",
    "        image = open(\"Screenshot1.png\", \"rb\")\n",
    "\n",
    "        print(\"Sending image data...\")\n",
    "        while True:\n",
    "            data = image.readline(1024)\n",
    "            if not data:\n",
    "                break\n",
    "            s.send(data)\n",
    "            \n",
    "        print(\"Data has been sent!\")\n",
    "    command = s.recv(1024)\n",
    "print(\"ENd\")\n",
    "\n",
    "s.close()\n",
    "print('connection closed')"
   ]
  },
  {
   "cell_type": "code",
   "execution_count": null,
   "metadata": {},
   "outputs": [],
   "source": []
  }
 ],
 "metadata": {
  "kernelspec": {
   "display_name": "Python 3",
   "language": "python",
   "name": "python3"
  },
  "language_info": {
   "codemirror_mode": {
    "name": "ipython",
    "version": 3
   },
   "file_extension": ".py",
   "mimetype": "text/x-python",
   "name": "python",
   "nbconvert_exporter": "python",
   "pygments_lexer": "ipython3",
   "version": "3.6.4"
  }
 },
 "nbformat": 4,
 "nbformat_minor": 2
}
